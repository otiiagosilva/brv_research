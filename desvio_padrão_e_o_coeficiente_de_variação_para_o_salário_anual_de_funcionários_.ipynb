{
  "nbformat": 4,
  "nbformat_minor": 0,
  "metadata": {
    "colab": {
      "provenance": [],
      "authorship_tag": "ABX9TyNPETNZlub0omyZRU5EnnWw",
      "include_colab_link": true
    },
    "kernelspec": {
      "name": "python3",
      "display_name": "Python 3"
    },
    "language_info": {
      "name": "python"
    }
  },
  "cells": [
    {
      "cell_type": "markdown",
      "metadata": {
        "id": "view-in-github",
        "colab_type": "text"
      },
      "source": [
        "<a href=\"https://colab.research.google.com/github/otiiagosilva/brv_research/blob/main/desvio_padr%C3%A3o_e_o_coeficiente_de_varia%C3%A7%C3%A3o_para_o_sal%C3%A1rio_anual_de_funcion%C3%A1rios_.ipynb\" target=\"_parent\"><img src=\"https://colab.research.google.com/assets/colab-badge.svg\" alt=\"Open In Colab\"/></a>"
      ]
    },
    {
      "cell_type": "markdown",
      "source": [
        "**Para encontrar o desvio padrão e o coeficiente de variação para o salário anual dos funcionários da empresa A, vamos seguir os seguintes passos:**\n",
        "\n",
        "Calcular a média dos salários:\n",
        "Média = (41 + 38 + 39 + 45 + 47 + 41 + 44 + 41 + 37 + 42) / 10\n",
        "= 415 / 10\n",
        "= 41,5\n",
        "\n",
        "Calcular a diferença entre cada salário e a média:\n",
        "Diferenças = (41 - 41,5), (38 - 41,5), (39 - 41,5), (45 - 41,5), (47 - 41,5), (41 - 41,5), (44 - 41,5), (41 - 41,5), (37 - 41,5), (42 - 41,5)\n",
        "= -0,5, -3,5, -2,5, 3,5, 5,5, -0,5, 2,5, -0,5, -4,5, 0,5\n",
        "\n",
        "Elevar ao quadrado cada diferença:\n",
        "Quadrados = (-0,5)^2, (-3,5)^2, (-2,5)^2, (3,5)^2, (5,5)^2, (-0,5)^2, (2,5)^2, (-0,5)^2, (-4,5)^2, (0,5)^2\n",
        "= 0,25, 12,25, 6,25, 12,25, 30,25, 0,25, 6,25, 0,25, 20,25, 0,25\n",
        "\n",
        "Calcular a variância:\n",
        "Variância = (0,25 + 12,25 + 6,25 + 12,25 + 30,25 + 0,25 + 6,25 + 0,25 + 20,25 + 0,25) / 10\n",
        "= 88,75 / 10\n",
        "= 8,875\n",
        "\n",
        "Calcular o desvio padrão:\n",
        "Desvio Padrão = √(8,875)\n",
        "≈ 2,981\n",
        "\n",
        "Calcular o coeficiente de variação:\n",
        "Coeficiente de Variação = (Desvio Padrão / Média) * 100\n",
        "= (2,981 / 41,5) * 100\n",
        "≈ 7,18%\n",
        "\n",
        "Portanto, o desvio padrão para o salário anual dos funcionários da empresa A é aproximadamente 2,981 K (mil) por ano, e o coeficiente de variação é aproximadamente 7,18%."
      ],
      "metadata": {
        "id": "pZt3Chb_eQCi"
      }
    },
    {
      "cell_type": "code",
      "execution_count": 2,
      "metadata": {
        "colab": {
          "base_uri": "https://localhost:8080/"
        },
        "id": "ArJd7yrt91bm",
        "outputId": "e3ca9880-ad30-4c74-b171-6c43f76569c2"
      },
      "outputs": [
        {
          "output_type": "stream",
          "name": "stdout",
          "text": [
            "Desvio Padrão: 3.13581462037113\n",
            "Coeficiente de Variação: 7.556179808123205\n"
          ]
        }
      ],
      "source": [
        "import statistics\n",
        "\n",
        "salarios = [41, 38, 39, 45, 47, 41, 44, 41, 37, 42]\n",
        "\n",
        "media = statistics.mean(salarios)\n",
        "desvio_padrao = statistics.stdev(salarios)\n",
        "coef_variacao = (desvio_padrao / media) * 100\n",
        "\n",
        "print(\"Desvio Padrão:\", desvio_padrao)\n",
        "print(\"Coeficiente de Variação:\", coef_variacao)"
      ]
    }
  ]
}