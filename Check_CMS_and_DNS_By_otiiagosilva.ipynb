{
  "nbformat": 4,
  "nbformat_minor": 0,
  "metadata": {
    "colab": {
      "provenance": [],
      "authorship_tag": "ABX9TyOCzGC/gQ7pvoNwExuUeIAf",
      "include_colab_link": true
    },
    "kernelspec": {
      "name": "python3",
      "display_name": "Python 3"
    },
    "language_info": {
      "name": "python"
    }
  },
  "cells": [
    {
      "cell_type": "markdown",
      "metadata": {
        "id": "view-in-github",
        "colab_type": "text"
      },
      "source": [
        "<a href=\"https://colab.research.google.com/github/otiiagosilva/brv_research/blob/main/Check_CMS_and_DNS_By_otiiagosilva.ipynb\" target=\"_parent\"><img src=\"https://colab.research.google.com/assets/colab-badge.svg\" alt=\"Open In Colab\"/></a>"
      ]
    },
    {
      "cell_type": "code",
      "source": [
        "pip install python-whois pythonwhois"
      ],
      "metadata": {
        "colab": {
          "base_uri": "https://localhost:8080/",
          "height": 273
        },
        "id": "hwFiy-2jiLpI",
        "outputId": "f47ed9f7-3533-414c-d658-c4e3a6046be5"
      },
      "execution_count": 10,
      "outputs": [
        {
          "output_type": "stream",
          "name": "stdout",
          "text": [
            "Looking in indexes: https://pypi.org/simple, https://us-python.pkg.dev/colab-wheels/public/simple/\n",
            "Requirement already satisfied: python-whois in /usr/local/lib/python3.10/dist-packages (0.8.0)\n",
            "Requirement already satisfied: pythonwhois in /usr/local/lib/python3.10/dist-packages (2.4.3)\n",
            "Requirement already satisfied: whois in /usr/local/lib/python3.10/dist-packages (0.9.27)\n",
            "Requirement already satisfied: future in /usr/local/lib/python3.10/dist-packages (from python-whois) (0.18.3)\n",
            "Collecting argparse (from pythonwhois)\n",
            "  Using cached argparse-1.4.0-py2.py3-none-any.whl (23 kB)\n",
            "Installing collected packages: argparse\n",
            "Successfully installed argparse-1.4.0\n"
          ]
        },
        {
          "output_type": "display_data",
          "data": {
            "application/vnd.colab-display-data+json": {
              "pip_warning": {
                "packages": [
                  "argparse"
                ]
              }
            }
          },
          "metadata": {}
        }
      ]
    },
    {
      "cell_type": "code",
      "source": [
        "pip install requests whois"
      ],
      "metadata": {
        "colab": {
          "base_uri": "https://localhost:8080/"
        },
        "id": "8SD2aYR7iNGJ",
        "outputId": "a90be953-4680-4604-f60b-6c9ca4e99324"
      },
      "execution_count": 11,
      "outputs": [
        {
          "output_type": "stream",
          "name": "stdout",
          "text": [
            "Looking in indexes: https://pypi.org/simple, https://us-python.pkg.dev/colab-wheels/public/simple/\n",
            "Requirement already satisfied: requests in /usr/local/lib/python3.10/dist-packages (2.27.1)\n",
            "Requirement already satisfied: whois in /usr/local/lib/python3.10/dist-packages (0.9.27)\n",
            "Requirement already satisfied: urllib3<1.27,>=1.21.1 in /usr/local/lib/python3.10/dist-packages (from requests) (1.26.15)\n",
            "Requirement already satisfied: certifi>=2017.4.17 in /usr/local/lib/python3.10/dist-packages (from requests) (2022.12.7)\n",
            "Requirement already satisfied: charset-normalizer~=2.0.0 in /usr/local/lib/python3.10/dist-packages (from requests) (2.0.12)\n",
            "Requirement already satisfied: idna<4,>=2.5 in /usr/local/lib/python3.10/dist-packages (from requests) (3.4)\n"
          ]
        }
      ]
    },
    {
      "cell_type": "code",
      "execution_count": 13,
      "metadata": {
        "colab": {
          "base_uri": "https://localhost:8080/"
        },
        "id": "fSpieh5Mei7H",
        "outputId": "5d874d77-2e0c-4535-a7ca-69af2bb47097"
      },
      "outputs": [
        {
          "output_type": "stream",
          "name": "stdout",
          "text": [
            "Digite o link do site: https://www.bettha.com/login\n",
            "O CMS identificado é: CMS não identificado\n",
            "Informações DNS: DNS não encontrado\n",
            "Local de hospedagem: GoDaddy.com, LLC\n"
          ]
        }
      ],
      "source": [
        "import requests\n",
        "import socket\n",
        "import whois\n",
        "\n",
        "def get_dns_info(url):\n",
        "    try:\n",
        "        ip = socket.gethostbyname(url)\n",
        "        return ip\n",
        "    except socket.gaierror:\n",
        "        return \"DNS não encontrado\"\n",
        "\n",
        "def get_hosting_location(url):\n",
        "    try:\n",
        "        w = whois.whois(url)\n",
        "        return w.registrar\n",
        "    except whois.parser.PywhoisError:\n",
        "        return \"Local de hospedagem não encontrado\"\n",
        "\n",
        "def detect_cms(url):\n",
        "    try:\n",
        "        response = requests.get(url)\n",
        "        html = response.text.lower()\n",
        "\n",
        "        if \"wordpress\" in html:\n",
        "            return \"WordPress\"\n",
        "        elif \"joomla\" in html:\n",
        "            return \"Joomla\"\n",
        "        elif \"drupal\" in html:\n",
        "            return \"Drupal\"\n",
        "        elif \"wix\" in html:\n",
        "            return \"Wix\"\n",
        "        elif \"shopify\" in html:\n",
        "            return \"Shopify\"\n",
        "        elif \"magento\" in html:\n",
        "            return \"Magento\"\n",
        "        else:\n",
        "            return \"CMS não identificado\"\n",
        "    except requests.exceptions.RequestException:\n",
        "        return \"Não foi possível acessar o site\"\n",
        "\n",
        "# Exemplo de uso\n",
        "url = input(\"Digite o link do site: \")\n",
        "\n",
        "cms = detect_cms(url)\n",
        "dns_info = get_dns_info(url)\n",
        "hosting_location = get_hosting_location(url)\n",
        "\n",
        "print(\"O CMS identificado é:\", cms)\n",
        "print(\"Informações DNS:\", dns_info)\n",
        "print(\"Local de hospedagem:\", hosting_location)"
      ]
    }
  ]
}